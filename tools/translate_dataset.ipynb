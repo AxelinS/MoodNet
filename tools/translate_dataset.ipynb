{
 "cells": [
  {
   "cell_type": "code",
   "execution_count": null,
   "metadata": {},
   "outputs": [],
   "source": [
    "# Instala traductor\n",
    "import csv, os, threading, torch, unidecode\n",
    "from transformers import MarianMTModel, MarianTokenizer\n",
    "from tqdm import tqdm\n",
    "\n",
    "model_name = \"Helsinki-NLP/opus-mt-en-es\"\n",
    "tokenizer = MarianTokenizer.from_pretrained(model_name)\n",
    "\n",
    "device = \"cuda\" if torch.cuda.is_available() else \"cpu\"\n",
    "model = MarianMTModel.from_pretrained(model_name).to(device)"
   ]
  },
  {
   "cell_type": "code",
   "execution_count": 2,
   "metadata": {},
   "outputs": [],
   "source": [
    "def translate(data):\n",
    "    a,original,c = data\n",
    "    translated = model.generate(**tokenizer(original, return_tensors=\"pt\", padding=True).to(device))\n",
    "    spanish = tokenizer.decode(translated[0], skip_special_tokens=True)\n",
    "    return [int(a),spanish,int(c)]"
   ]
  },
  {
   "cell_type": "code",
   "execution_count": 3,
   "metadata": {},
   "outputs": [],
   "source": [
    "if not os.path.exists(\"../dataset/\"): os.mkdir(\"../dataset/\")\n",
    "\n",
    "rows = []\n",
    "with open(\"../dataset/emotions.csv\", \"r\",encoding='utf-8', newline='') as file:\n",
    "    reader = csv.reader(file, delimiter=',', quotechar='\"')\n",
    "    for row in reader:\n",
    "        rows.append(row)\n",
    "file.close()\n",
    "head = rows[0]\n",
    "\n",
    "total = len(rows)"
   ]
  },
  {
   "cell_type": "code",
   "execution_count": null,
   "metadata": {},
   "outputs": [],
   "source": [
    "# Translate dataset test v1\n",
    "\n",
    "num_threads = 4\n",
    "chunk_size = len(rows) // num_threads\n",
    "threads = []\n",
    "progress_bar = tqdm(total=total, desc=\"Traduciendo dataset\")\n",
    "with open(\"../dataset/emociones.csv\", \"w\", encoding='utf-8', newline='') as outfile:\n",
    "    writer = csv.writer(outfile, delimiter=',', quotechar='\"')\n",
    "    writer.writerow([e for e in head])\n",
    "\n",
    "    def translate_chunk(chunk, progress_bar):\n",
    "        for row in chunk:\n",
    "            t = translate(row)\n",
    "            writer.writerow(t)\n",
    "            progress_bar.update()\n",
    "\n",
    "    for i in range(num_threads):\n",
    "        start_idx = i * chunk_size\n",
    "        end_idx = start_idx + chunk_size if i != num_threads - 1 else total\n",
    "        chunk = rows[start_idx:end_idx]\n",
    "\n",
    "        thread = threading.Thread(target=translate_chunk, args=(chunk, progress_bar))\n",
    "        threads.append(thread)\n",
    "        thread.start()\n",
    "\n",
    "    for thread in threads:\n",
    "        thread.join()\n",
    "\n",
    "    progress_bar.close()\n",
    "    outfile.close()\n"
   ]
  },
  {
   "cell_type": "code",
   "execution_count": null,
   "metadata": {},
   "outputs": [],
   "source": [
    "# cut or combine datasets\n",
    "rows = []\n",
    "dir = os.listdir(\"../dataset/\")\n",
    "archivos_csv = [archivo for archivo in dir if archivo.endswith(\".csv\")]\n",
    "for archivo in archivos_csv:\n",
    "    print(f\"../dataset/{archivo}\")\n",
    "    with open(f\"../dataset/{archivo}\", \"r\", encoding='utf-8', newline='') as file:\n",
    "        reader = csv.reader(file, delimiter=',', quotechar='\"')\n",
    "        try:\n",
    "            for row in reader:\n",
    "                if len(str(row[0])) > 200: continue\n",
    "                text = unidecode.unidecode(str(row[0]).lower())\n",
    "                rows.append([text,row[1]])\n",
    "        except Exception as e:\n",
    "            print(e)\n",
    "    file.close()\n",
    "\n",
    "with open(\"../dataset/emociones.csv\", \"w\", encoding='utf-8', newline='') as outfile:\n",
    "    writer = csv.writer(outfile, delimiter=',', quotechar='\"')\n",
    "    writer.writerows(rows)"
   ]
  },
  {
   "cell_type": "code",
   "execution_count": null,
   "metadata": {},
   "outputs": [],
   "source": [
    "# Mimir\n",
    "SLEEP = True\n",
    "if SLEEP:\n",
    "    try:\n",
    "        os.system('shutdown /s /t 0')\n",
    "    except:\n",
    "        os.system(\"rundll32.exe powrprof.dll,SetSuspendState 0,1,0\")"
   ]
  }
 ],
 "metadata": {
  "kernelspec": {
   "display_name": "neka",
   "language": "python",
   "name": "python3"
  },
  "language_info": {
   "codemirror_mode": {
    "name": "ipython",
    "version": 3
   },
   "file_extension": ".py",
   "mimetype": "text/x-python",
   "name": "python",
   "nbconvert_exporter": "python",
   "pygments_lexer": "ipython3",
   "version": "3.11.9"
  }
 },
 "nbformat": 4,
 "nbformat_minor": 2
}
